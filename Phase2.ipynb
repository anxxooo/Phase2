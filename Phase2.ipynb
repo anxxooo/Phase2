{
 "cells": [
  {
   "cell_type": "code",
   "execution_count": null,
   "id": "f81179ba-c626-4c52-b728-51db8c724050",
   "metadata": {},
   "outputs": [],
   "source": [
    "'''\n",
    "This phase uses FaceNet to extract facial embeddings from an image\n",
    "as well as create the labels (the name of the person)\n",
    "'''"
   ]
  },
  {
   "cell_type": "code",
   "execution_count": null,
   "id": "6968b660-a63c-42f5-a255-0da7d37cb154",
   "metadata": {},
   "outputs": [],
   "source": [
    "import numpy as np\n",
    "import cv2\n",
    "import os"
   ]
  },
  {
   "cell_type": "code",
   "execution_count": null,
   "id": "ea69eef8-5dc5-4aa7-ae95-4fe9f28e9234",
   "metadata": {},
   "outputs": [],
   "source": [
    "from tensorflow.keras.models import Model\n",
    "from keras_facenet import FaceNet\n",
    "from tensorflow.keras.preprocessing.image import img_to_array, load_img\n",
    "\n",
    "def extract_embeddings(image_path, embedder, target_size=(160, 160)):\n",
    "    \"\"\"Extract facial embeddings from an image.\"\"\"\n",
    "    # Load image and resize to the required input size\n",
    "    image = load_img(image_path, target_size=target_size)\n",
    "    image_array = img_to_array(image)\n",
    "    image_array = np.expand_dims(image_array, axis=0)  # Add batch dimension\n",
    "\n",
    "    # Get the embedding\n",
    "    embeddings = embedder.embeddings(image_array)\n",
    "    return embeddings\n",
    "\n",
    "# Paths\n",
    "dataset_folder = r\"C:\\Users\\user\\Desktop\\Cleaned_Data\" \n",
    "output_labels_file = r\"C:\\Users\\user\\Desktop\\labels.npy\"\n",
    "output_embeddings_file = r\"C:\\Users\\user\\Desktop\\embeddings.npy\"\n",
    "\n",
    "\n",
    "# Load the FaceNet model\n",
    "embedder = FaceNet()\n",
    "\n",
    "# Extract embeddings for all images in the dataset\n",
    "embeddings = []\n",
    "labels = []  # To store corresponding labels\n",
    "for subfolder in os.listdir(dataset_folder):\n",
    "    subfolder_path = os.path.join(dataset_folder, subfolder)\n",
    "    print(subfolder_path)\n",
    "    if os.path.isdir(subfolder_path):  # Check if it's a subfolder\n",
    "        label = subfolder  # Use subfolder name (name_surname) as the label\n",
    "        print(f\"Processing subfolder: {label}\")\n",
    "\n",
    "        # Process each image in the subfolder\n",
    "        for filename in os.listdir(subfolder_path):\n",
    "            if filename.lower().endswith(('.png', '.jpg', '.jpeg')):  # Check for valid image files\n",
    "                image_path = os.path.join(subfolder_path, filename)\n",
    "                \n",
    "                try:\n",
    "                    # Extract the embedding\n",
    "                    embedding = extract_embeddings(image_path, embedder)\n",
    "                    embeddings.append(embedding)\n",
    "                    labels.append(label)  # Append the label corresponding to the subfolder\n",
    "                except Exception as e:\n",
    "                    print(f\"Error processing {image_path}: {e}\")\n",
    "\n",
    "# Save the embeddings and labels\n",
    "np.save(output_embeddings_file, embeddings)\n",
    "np.save(output_labels_file, labels)\n",
    "\n",
    "print(f\"Embeddings saved to {output_embeddings_file}.\")\n",
    "print(f\"Labels saved to labels.npy.\")\n"
   ]
  }
 ],
 "metadata": {
  "kernelspec": {
   "display_name": "Python 3 (ipykernel)",
   "language": "python",
   "name": "python3"
  },
  "language_info": {
   "codemirror_mode": {
    "name": "ipython",
    "version": 3
   },
   "file_extension": ".py",
   "mimetype": "text/x-python",
   "name": "python",
   "nbconvert_exporter": "python",
   "pygments_lexer": "ipython3",
   "version": "3.12.7"
  }
 },
 "nbformat": 4,
 "nbformat_minor": 5
}
